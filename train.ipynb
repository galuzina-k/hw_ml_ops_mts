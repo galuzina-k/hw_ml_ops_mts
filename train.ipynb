{
 "cells": [
  {
   "cell_type": "code",
   "execution_count": 1,
   "id": "09c38df3-45fa-44c2-99ad-82e48e060c59",
   "metadata": {},
   "outputs": [],
   "source": [
    "import joblib\n",
    "\n",
    "import pandas as pd\n",
    "from xgboost import XGBClassifier\n",
    "\n",
    "from sklearn.preprocessing import StandardScaler, OrdinalEncoder\n",
    "from sklearn.impute import SimpleImputer\n",
    "from sklearn.compose import ColumnTransformer\n",
    "from sklearn.pipeline import Pipeline"
   ]
  },
  {
   "cell_type": "markdown",
   "id": "5e03ecf8-d505-4e17-8bcb-f5b4306a9b20",
   "metadata": {},
   "source": [
    "## Train/save the preprocessings and the model"
   ]
  },
  {
   "cell_type": "code",
   "execution_count": 2,
   "id": "3035d151-b876-4616-b7c8-e9d672209a41",
   "metadata": {},
   "outputs": [],
   "source": [
    "PATH_TO_DATA = \"train_data/train.csv\"\n",
    "\n",
    "target_col = 'binary_target'\n",
    "categorical_cols = ['частота_пополнения']\n",
    "continuous_cols = ['сумма', 'секретный_скор', \"pack_freq\", 'частота', 'доход']\n",
    "drop_cols = ['client_id', 'mrg_',\n",
    "            'регион', 'использование', 'on_net',\n",
    "            'зона_1', 'зона_2', 'pack',\n",
    "            'сегмент_arpu', 'объем_данных', 'продукт_1', 'продукт_2']"
   ]
  },
  {
   "cell_type": "code",
   "execution_count": 3,
   "id": "794e57c0-3775-4515-bde6-53b6cdc0792c",
   "metadata": {},
   "outputs": [],
   "source": [
    "df = pd.read_csv(PATH_TO_DATA)\n",
    "\n",
    "# Drop unnecessary columns\n",
    "df = df.drop(columns=drop_cols)\n",
    "\n",
    "# Split the data into features and target\n",
    "X = df.drop(columns=[target_col])\n",
    "y = df[target_col]\n",
    "\n",
    "# Preprocess the data with SimpleImputer and other transformers\n",
    "# Define the column transformer\n",
    "preprocessor = ColumnTransformer(\n",
    "    transformers=[\n",
    "        ('cat', Pipeline(steps=[\n",
    "            ('imputer', SimpleImputer(strategy='most_frequent')),\n",
    "            ('encoder', OrdinalEncoder(handle_unknown=\"use_encoded_value\", unknown_value=-1))\n",
    "        ]), categorical_cols),\n",
    "        ('cont', Pipeline(steps=[\n",
    "            ('imputer', SimpleImputer(strategy='mean')),\n",
    "            ('scaler', StandardScaler())\n",
    "        ]), continuous_cols)\n",
    "    ])"
   ]
  },
  {
   "cell_type": "code",
   "execution_count": 4,
   "id": "c745e9a2-1b8d-441e-abe3-6b813b49c0a8",
   "metadata": {},
   "outputs": [],
   "source": [
    "pipeline = Pipeline(steps=[\n",
    "    ('preprocessor', preprocessor),\n",
    "    ('classifier', XGBClassifier(use_label_encoder=False, eval_metric='logloss', verbosity=3, n_estimators=200))\n",
    "])"
   ]
  },
  {
   "cell_type": "code",
   "execution_count": 5,
   "id": "5115e207-40a2-45cf-a644-b0eee196c5c4",
   "metadata": {},
   "outputs": [
    {
     "name": "stdout",
     "output_type": "stream",
     "text": [
      "[23:27:14] ======== Monitor (0): HostSketchContainer ========\n",
      "[23:27:14] AllReduce: 0.001136s, 1 calls @ 1136us\n",
      "\n",
      "[23:27:14] MakeCuts: 0.001175s, 1 calls @ 1175us\n",
      "\n",
      "[23:27:14] DEBUG: /Users/runner/work/xgboost/xgboost/src/gbm/gbtree.cc:130: Using tree method: 0\n",
      "[23:27:16] ======== Monitor (0): Learner ========\n",
      "[23:27:16] Configure: 0.00018s, 1 calls @ 180us\n",
      "\n",
      "[23:27:16] EvalOneIter: 0.001436s, 200 calls @ 1436us\n",
      "\n",
      "[23:27:16] GetGradient: 0.352849s, 200 calls @ 352849us\n",
      "\n",
      "[23:27:16] PredictRaw: 0.000725s, 200 calls @ 725us\n",
      "\n",
      "[23:27:16] UpdateOneIter: 2.43734s, 200 calls @ 2437344us\n",
      "\n",
      "[23:27:16] ======== Monitor (0): GBTree ========\n",
      "[23:27:16] BoostNewTrees: 2.07612s, 200 calls @ 2076123us\n",
      "\n",
      "[23:27:16] CommitModel: 0.000197s, 200 calls @ 197us\n",
      "\n",
      "[23:27:16] ======== Monitor (0): HistUpdater ========\n",
      "[23:27:16] BuildHistogram: 0.291251s, 1000 calls @ 291251us\n",
      "\n",
      "[23:27:16] EvaluateSplits: 0.058669s, 1200 calls @ 58669us\n",
      "\n",
      "[23:27:16] InitData: 0.507766s, 200 calls @ 507766us\n",
      "\n",
      "[23:27:16] InitRoot: 0.339359s, 200 calls @ 339359us\n",
      "\n",
      "[23:27:16] LeafPartition: 2.3e-05s, 200 calls @ 23us\n",
      "\n",
      "[23:27:16] UpdatePosition: 0.806134s, 1200 calls @ 806134us\n",
      "\n",
      "[23:27:16] UpdatePredictionCache: 0.068006s, 200 calls @ 68006us\n",
      "\n",
      "[23:27:16] UpdateTree: 2.00624s, 200 calls @ 2006242us\n",
      "\n"
     ]
    },
    {
     "data": {
      "text/plain": [
       "['app/models/xgboost_pipeline.pkl']"
      ]
     },
     "execution_count": 5,
     "metadata": {},
     "output_type": "execute_result"
    }
   ],
   "source": [
    "# Fit the model\n",
    "pipeline.fit(X, y)\n",
    "\n",
    "# Save the model\n",
    "joblib.dump(pipeline, 'app/models/xgboost_pipeline.pkl')"
   ]
  },
  {
   "cell_type": "code",
   "execution_count": null,
   "id": "6f1d08b8-134a-4548-a0b5-b3b75c9ba325",
   "metadata": {},
   "outputs": [],
   "source": []
  }
 ],
 "metadata": {
  "kernelspec": {
   "display_name": "Python 3 (ipykernel)",
   "language": "python",
   "name": "python3"
  },
  "language_info": {
   "codemirror_mode": {
    "name": "ipython",
    "version": 3
   },
   "file_extension": ".py",
   "mimetype": "text/x-python",
   "name": "python",
   "nbconvert_exporter": "python",
   "pygments_lexer": "ipython3",
   "version": "3.12.2"
  }
 },
 "nbformat": 4,
 "nbformat_minor": 5
}
